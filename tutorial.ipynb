{
 "cells": [
  {
   "cell_type": "markdown",
   "id": "6509b696-c47c-4e0f-991b-dd5332e9d83d",
   "metadata": {
    "tags": []
   },
   "source": [
    "# 0x00 Introduction\n",
    "\n",
    "This is a manual for using TileTrans to reparameterize the DNN model. We will show the steps of reparameterization from zero as follows\n",
    "\n",
    "1. Train a model\n",
    "2. Prune the model\n",
    "3. Reparameterize and prune the model\n",
    "\n",
    "# 0x01 Train a model\n",
    "\n",
    "We train the model generally. For quik traning, we select **AlexNet** as the model and **CIFAR10** as the dataset.\n",
    "\n"
   ]
  },
  {
   "cell_type": "code",
   "execution_count": null,
   "id": "4055c037-6151-4d22-a993-01bfbdf6767d",
   "metadata": {
    "collapsed": true,
    "jupyter": {
     "outputs_hidden": true
    },
    "tags": []
   },
   "outputs": [
    {
     "name": "stdout",
     "output_type": "stream",
     "text": [
      "Files already downloaded and verified\n",
      "Files already downloaded and verified\n",
      "\n",
      "--------------------------------------------------\n",
      "Epoch: 0  Train Loss: 0.9452  Valid Loss: 245.7380  Correct Rate: 0.0004\n",
      "--------------------------------------------------\n",
      "\n",
      "Maximum Validation Accuracy of 0.0004 at epoch 0/10\n",
      "Model Saved\n",
      "\n",
      "\n",
      "--------------------------------------------------\n",
      "Epoch: 1  Train Loss: nan  Valid Loss: nan  Correct Rate: 0.0004\n",
      "--------------------------------------------------\n",
      "\n",
      "--------------------------------------------------\n",
      "Epoch: 2  Train Loss: nan  Valid Loss: nan  Correct Rate: 0.0004\n",
      "--------------------------------------------------\n",
      "\n",
      "--------------------------------------------------\n",
      "Epoch: 3  Train Loss: nan  Valid Loss: nan  Correct Rate: 0.0004\n",
      "--------------------------------------------------\n",
      "\n",
      "--------------------------------------------------\n",
      "Epoch: 4  Train Loss: nan  Valid Loss: nan  Correct Rate: 0.0004\n",
      "--------------------------------------------------\n",
      "\n",
      "--------------------------------------------------\n",
      "Epoch: 5  Train Loss: nan  Valid Loss: nan  Correct Rate: 0.0004\n",
      "--------------------------------------------------\n"
     ]
    },
    {
     "name": "stderr",
     "output_type": "stream",
     "text": [
      "Traceback (most recent call last):\n",
      "  File \"/usr/lib/python3.8/multiprocessing/util.py\", line 300, in _run_finalizers\n",
      "    finalizer()\n",
      "  File \"/usr/lib/python3.8/multiprocessing/util.py\", line 224, in __call__\n",
      "    res = self._callback(*self._args, **self._kwargs)\n",
      "  File \"/usr/lib/python3.8/multiprocessing/util.py\", line 133, in _remove_temp_dir\n",
      "    rmtree(tempdir)\n",
      "  File \"/usr/lib/python3.8/shutil.py\", line 722, in rmtree\n",
      "    onerror(os.rmdir, path, sys.exc_info())\n",
      "  File \"/usr/lib/python3.8/shutil.py\", line 720, in rmtree\n",
      "    os.rmdir(path)\n",
      "OSError: [Errno 39] Directory not empty: '/tmp/pymp-o0o5ueke'\n"
     ]
    },
    {
     "name": "stdout",
     "output_type": "stream",
     "text": [
      "\n",
      "--------------------------------------------------\n",
      "Epoch: 6  Train Loss: nan  Valid Loss: nan  Correct Rate: 0.0004\n",
      "--------------------------------------------------\n",
      "\n",
      "--------------------------------------------------\n",
      "Epoch: 7  Train Loss: nan  Valid Loss: nan  Correct Rate: 0.0004\n",
      "--------------------------------------------------\n",
      "\n",
      "--------------------------------------------------\n",
      "Epoch: 8  Train Loss: nan  Valid Loss: nan  Correct Rate: 0.0004\n",
      "--------------------------------------------------\n",
      "\n",
      "--------------------------------------------------\n",
      "Epoch: 9  Train Loss: nan  Valid Loss: nan  Correct Rate: 0.0004\n",
      "--------------------------------------------------\n",
      "training time = 4.396561160999994\n"
     ]
    }
   ],
   "source": [
    "import torch\n",
    "import torchvision\n",
    "import torchvision.transforms as transforms\n",
    "import torchvision.models as models\n",
    "import torch.nn as nn\n",
    "import time\n",
    "import train\n",
    "\n",
    "transform = transforms.Compose([\n",
    "    transforms.ToTensor(),\n",
    "    transforms.Resize(256),\n",
    "    transforms.CenterCrop(224),\n",
    "    transforms.ConvertImageDtype(torch.float),\n",
    "    transforms.Normalize(mean=[0.485, 0.456, 0.406], std=[0.229, 0.224, 0.225]),\n",
    "    ])\n",
    "\n",
    "EPOCH = 32\n",
    "BATCH_SIZE = 256\n",
    "LR = 0.001\n",
    "\n",
    "trainset = torchvision.datasets.CIFAR10(root='./data', train=True, download=True, transform=transform)\n",
    "trainloader = torch.utils.data.DataLoader(trainset, batch_size=BATCH_SIZE, shuffle=True, num_workers=2)\n",
    "\n",
    "testset = torchvision.datasets.CIFAR10(root='./data', train=False, download=True, transform=transform)\n",
    "testloader = torch.utils.data.DataLoader(testset, batch_size=BATCH_SIZE, shuffle=False, num_workers=2)\n",
    "net = models.alexnet(pretrained=True)\n",
    "\n",
    "optimizer = torch.optim.SGD(net.parameters(), lr=LR, momentum=0.9, weight_decay=5e-4)\n",
    "loss_func = nn.CrossEntropyLoss()\n",
    "\n",
    "start_time = time.process_time()\n",
    "train.train(net, trainloader, testloader, loss_func, optimizer, EPOCH, \"trained_model\")\n",
    "print(\"training time = {}\".format(time.process_time() - start_time))"
   ]
  },
  {
   "cell_type": "markdown",
   "id": "299fe135-5a40-445d-a611-de322d583aea",
   "metadata": {},
   "source": [
    "# 0x02 Prune the model\n",
    "\n",
    "After training the model, we prune the model with the shape of $1 \\times 128$. "
   ]
  },
  {
   "cell_type": "code",
   "execution_count": null,
   "id": "cba8777f-655f-4e1a-8170-45a3e7d38c85",
   "metadata": {},
   "outputs": [],
   "source": [
    "from metrics import MetricsL1\n",
    "import pruner\n",
    "\n",
    "SPARSITY = 0.9\n",
    "EPOCH = 10\n",
    "LR = 0.001\n",
    "\n",
    "metric = MetricsL1\n",
    "method = pruner.TW_pruning([1, 128], metric)\n",
    "pru = pruner.Pruner(method)\n",
    "\n",
    "net = models.alexnet(pretrained=True)\n",
    "net.load_state_dict(torch.load(\"trained_model\"))\n",
    "\n",
    "pru.prune(net, SPARSITY)\n",
    "\n",
    "optimizer = torch.optim.SGD(net.parameters(), lr=LR, momentum=0.9, weight_decay=5e-4)\n",
    "\n",
    "start_time = time.process_time()\n",
    "train.train(net, trainloader, testloader, loss_func, optimizer, EPOCH, \"pruned_model\")\n",
    "print(\"training time = {}\".format(time.process_time() - start_time))"
   ]
  },
  {
   "cell_type": "markdown",
   "id": "2b64864a-9732-45b2-ae34-c8e1c7576c9c",
   "metadata": {
    "tags": []
   },
   "source": [
    "According to the result, we get a model with the sparsity of 0.9 and accuracy of 0.1.\n",
    "\n",
    "# 0x03 Reparameterize and prune the model\n",
    "\n",
    "Now let's try reparameterizing the moedel with TileTrans before pruning."
   ]
  },
  {
   "cell_type": "code",
   "execution_count": null,
   "id": "3c3f1fe7-b338-4866-9c05-3df3652fd679",
   "metadata": {},
   "outputs": [],
   "source": [
    "from reconstructor import Reconstructor, ReconMethodL1Sort\n",
    "\n",
    "SPARSITY = 0.9\n",
    "EPOCH = 10\n",
    "LR = 0.001\n",
    "\n",
    "metric = MetricsL1\n",
    "method = pruner.TW_pruning([1, 128], metric)\n",
    "pru = pruner.Pruner(method)\n",
    "recon = Reconstructor(metrics=metric, method=ReconMethodL1Sort)\n",
    "\n",
    "net = models.alexnet(pretrained=True)\n",
    "net.load_state_dict(torch.load(\"trained_model\"))\n",
    "\n",
    "recon(net)\n",
    "pru.prune(net, SPARSITY)\n",
    "\n",
    "optimizer = torch.optim.SGD(net.parameters(), lr=LR, momentum=0.9, weight_decay=5e-4)\n",
    "\n",
    "start_time = time.process_time()\n",
    "train.train(net, trainloader, testloader, loss_func, optimizer, EPOCH, \"pruned_model\")\n",
    "print(\"training time = {}\".format(time.process_time() - start_time))"
   ]
  },
  {
   "cell_type": "markdown",
   "id": "d3d41428-616c-49e0-b3ba-ba25dc94328f",
   "metadata": {},
   "source": [
    "Finally, we get a model with sparsity of 0.9 and accuracy with 0.12."
   ]
  }
 ],
 "metadata": {
  "kernelspec": {
   "display_name": "Python 3 (ipykernel)",
   "language": "python",
   "name": "python3"
  },
  "language_info": {
   "codemirror_mode": {
    "name": "ipython",
    "version": 3
   },
   "file_extension": ".py",
   "mimetype": "text/x-python",
   "name": "python",
   "nbconvert_exporter": "python",
   "pygments_lexer": "ipython3",
   "version": "3.8.10"
  }
 },
 "nbformat": 4,
 "nbformat_minor": 5
}
